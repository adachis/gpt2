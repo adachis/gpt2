{
  "nbformat": 4,
  "nbformat_minor": 0,
  "metadata": {
    "colab": {
      "name": "Copy of Train a GPT-2 Text-Generating Model w/ GPU",
      "version": "0.3.2",
      "provenance": [],
      "collapsed_sections": [],
      "toc_visible": true,
      "include_colab_link": true
    },
    "kernelspec": {
      "name": "python3",
      "display_name": "Python 3"
    },
    "accelerator": "GPU"
  },
  "cells": [
    {
      "cell_type": "markdown",
      "metadata": {
        "id": "view-in-github",
        "colab_type": "text"
      },
      "source": [
        "<a href=\"https://colab.research.google.com/github/adachis/gpt2/blob/master/Copy_of_Train_a_GPT_2_Text_Generating_Model_w_GPU.ipynb\" target=\"_parent\"><img src=\"https://colab.research.google.com/assets/colab-badge.svg\" alt=\"Open In Colab\"/></a>"
      ]
    },
    {
      "cell_type": "markdown",
      "metadata": {
        "id": "H7LoMj4GA4n_",
        "colab_type": "text"
      },
      "source": [
        "#  Train a GPT-2 Text-Generating Model w/ GPU For Free \n",
        "\n",
        "by [Max Woolf](http://minimaxir.com)\n",
        "\n",
        "*Last updated: August 28th, 2019*\n",
        "\n",
        "Retrain an advanced text generating neural network on any text dataset **for free on a GPU using Collaboratory** using `gpt-2-simple`!\n",
        "\n",
        "For more about `gpt-2-simple`, you can visit [this GitHub repository](https://github.com/minimaxir/gpt-2-simple).\n",
        "\n",
        "\n",
        "To get started:\n",
        "\n",
        "1. Copy this notebook to your Google Drive to keep it and save your changes. (File -> Save a Copy in Drive)\n",
        "2. Make sure you're running the notebook in Google Chrome.\n",
        "3. Run the cells below:\n"
      ]
    },
    {
      "cell_type": "code",
      "metadata": {
        "id": "KBkpRgBCBS2_",
        "colab_type": "code",
        "outputId": "927003ef-a57b-4281-8c56-de6f497f139e",
        "colab": {
          "base_uri": "https://localhost:8080/",
          "height": 68
        }
      },
      "source": [
        "!pip install -q gpt-2-simple\n",
        "import gpt_2_simple as gpt2\n",
        "from datetime import datetime\n",
        "from google.colab import files"
      ],
      "execution_count": 0,
      "outputs": [
        {
          "output_type": "stream",
          "text": [
            "\u001b[?25l\r\u001b[K     |▌                               | 10kB 22.1MB/s eta 0:00:01\r\u001b[K     |█                               | 20kB 29.5MB/s eta 0:00:01\r\u001b[K     |█▌                              | 30kB 36.4MB/s eta 0:00:01\r\u001b[K     |██                              | 40kB 4.4MB/s eta 0:00:01\r\u001b[K     |██▌                             | 51kB 5.4MB/s eta 0:00:01\r\u001b[K     |███                             | 61kB 6.3MB/s eta 0:00:01\r\u001b[K     |███▌                            | 71kB 7.3MB/s eta 0:00:01\r\u001b[K     |████                            | 81kB 8.2MB/s eta 0:00:01\r\u001b[K     |████▌                           | 92kB 9.1MB/s eta 0:00:01\r\u001b[K     |█████                           | 102kB 9.9MB/s eta 0:00:01\r\u001b[K     |█████▌                          | 112kB 9.9MB/s eta 0:00:01\r\u001b[K     |██████                          | 122kB 9.9MB/s eta 0:00:01\r\u001b[K     |██████▌                         | 133kB 9.9MB/s eta 0:00:01\r\u001b[K     |███████                         | 143kB 9.9MB/s eta 0:00:01\r\u001b[K     |███████▌                        | 153kB 9.9MB/s eta 0:00:01\r\u001b[K     |████████                        | 163kB 9.9MB/s eta 0:00:01\r\u001b[K     |████████▌                       | 174kB 9.9MB/s eta 0:00:01\r\u001b[K     |█████████                       | 184kB 9.9MB/s eta 0:00:01\r\u001b[K     |█████████▌                      | 194kB 9.9MB/s eta 0:00:01\r\u001b[K     |██████████                      | 204kB 9.9MB/s eta 0:00:01\r\u001b[K     |██████████▌                     | 215kB 9.9MB/s eta 0:00:01\r\u001b[K     |███████████                     | 225kB 9.9MB/s eta 0:00:01\r\u001b[K     |███████████▌                    | 235kB 9.9MB/s eta 0:00:01\r\u001b[K     |████████████                    | 245kB 9.9MB/s eta 0:00:01\r\u001b[K     |████████████▌                   | 256kB 9.9MB/s eta 0:00:01\r\u001b[K     |█████████████                   | 266kB 9.9MB/s eta 0:00:01\r\u001b[K     |█████████████▌                  | 276kB 9.9MB/s eta 0:00:01\r\u001b[K     |██████████████                  | 286kB 9.9MB/s eta 0:00:01\r\u001b[K     |██████████████▌                 | 296kB 9.9MB/s eta 0:00:01\r\u001b[K     |███████████████                 | 307kB 9.9MB/s eta 0:00:01\r\u001b[K     |███████████████▌                | 317kB 9.9MB/s eta 0:00:01\r\u001b[K     |████████████████                | 327kB 9.9MB/s eta 0:00:01\r\u001b[K     |████████████████▌               | 337kB 9.9MB/s eta 0:00:01\r\u001b[K     |█████████████████               | 348kB 9.9MB/s eta 0:00:01\r\u001b[K     |█████████████████▌              | 358kB 9.9MB/s eta 0:00:01\r\u001b[K     |██████████████████              | 368kB 9.9MB/s eta 0:00:01\r\u001b[K     |██████████████████▌             | 378kB 9.9MB/s eta 0:00:01\r\u001b[K     |███████████████████             | 389kB 9.9MB/s eta 0:00:01\r\u001b[K     |███████████████████▌            | 399kB 9.9MB/s eta 0:00:01\r\u001b[K     |████████████████████            | 409kB 9.9MB/s eta 0:00:01\r\u001b[K     |████████████████████▌           | 419kB 9.9MB/s eta 0:00:01\r\u001b[K     |█████████████████████           | 430kB 9.9MB/s eta 0:00:01\r\u001b[K     |█████████████████████▌          | 440kB 9.9MB/s eta 0:00:01\r\u001b[K     |██████████████████████          | 450kB 9.9MB/s eta 0:00:01\r\u001b[K     |██████████████████████▌         | 460kB 9.9MB/s eta 0:00:01\r\u001b[K     |███████████████████████         | 471kB 9.9MB/s eta 0:00:01\r\u001b[K     |███████████████████████▌        | 481kB 9.9MB/s eta 0:00:01\r\u001b[K     |████████████████████████        | 491kB 9.9MB/s eta 0:00:01\r\u001b[K     |████████████████████████▌       | 501kB 9.9MB/s eta 0:00:01\r\u001b[K     |█████████████████████████       | 512kB 9.9MB/s eta 0:00:01\r\u001b[K     |█████████████████████████▌      | 522kB 9.9MB/s eta 0:00:01\r\u001b[K     |██████████████████████████      | 532kB 9.9MB/s eta 0:00:01\r\u001b[K     |██████████████████████████▌     | 542kB 9.9MB/s eta 0:00:01\r\u001b[K     |███████████████████████████     | 552kB 9.9MB/s eta 0:00:01\r\u001b[K     |███████████████████████████▌    | 563kB 9.9MB/s eta 0:00:01\r\u001b[K     |████████████████████████████    | 573kB 9.9MB/s eta 0:00:01\r\u001b[K     |████████████████████████████▌   | 583kB 9.9MB/s eta 0:00:01\r\u001b[K     |█████████████████████████████   | 593kB 9.9MB/s eta 0:00:01\r\u001b[K     |█████████████████████████████▌  | 604kB 9.9MB/s eta 0:00:01\r\u001b[K     |██████████████████████████████  | 614kB 9.9MB/s eta 0:00:01\r\u001b[K     |██████████████████████████████▌ | 624kB 9.9MB/s eta 0:00:01\r\u001b[K     |███████████████████████████████ | 634kB 9.9MB/s eta 0:00:01\r\u001b[K     |███████████████████████████████▌| 645kB 9.9MB/s eta 0:00:01\r\u001b[K     |████████████████████████████████| 655kB 9.9MB/s \n",
            "\u001b[?25h  Building wheel for gpt-2-simple (setup.py) ... \u001b[?25l\u001b[?25hdone\n",
            "  Building wheel for regex (setup.py) ... \u001b[?25l\u001b[?25hdone\n"
          ],
          "name": "stdout"
        }
      ]
    },
    {
      "cell_type": "markdown",
      "metadata": {
        "id": "Bj2IJLHP3KwE",
        "colab_type": "text"
      },
      "source": [
        "## GPU\n",
        "\n",
        "Colaboratory uses either a Nvidia T4 GPU or an Nvidia K80 GPU. The T4 is slightly faster than the old K80 for training GPT-2, and has more memory allowing you to train the larger GPT-2 models and generate more text.\n",
        "\n",
        "You can verify which GPU is active by running the cell below."
      ]
    },
    {
      "cell_type": "code",
      "metadata": {
        "id": "sUmTooTW3osf",
        "colab_type": "code",
        "outputId": "0ea6c58c-8ea5-4d09-bfd9-75013b64cc2a",
        "colab": {
          "base_uri": "https://localhost:8080/",
          "height": 306
        }
      },
      "source": [
        "!nvidia-smi"
      ],
      "execution_count": 0,
      "outputs": [
        {
          "output_type": "stream",
          "text": [
            "Sat Aug 31 08:55:20 2019       \n",
            "+-----------------------------------------------------------------------------+\n",
            "| NVIDIA-SMI 430.40       Driver Version: 418.67       CUDA Version: 10.1     |\n",
            "|-------------------------------+----------------------+----------------------+\n",
            "| GPU  Name        Persistence-M| Bus-Id        Disp.A | Volatile Uncorr. ECC |\n",
            "| Fan  Temp  Perf  Pwr:Usage/Cap|         Memory-Usage | GPU-Util  Compute M. |\n",
            "|===============================+======================+======================|\n",
            "|   0  Tesla K80           Off  | 00000000:00:04.0 Off |                    0 |\n",
            "| N/A   36C    P8    26W / 149W |      0MiB / 11441MiB |      0%      Default |\n",
            "+-------------------------------+----------------------+----------------------+\n",
            "                                                                               \n",
            "+-----------------------------------------------------------------------------+\n",
            "| Processes:                                                       GPU Memory |\n",
            "|  GPU       PID   Type   Process name                             Usage      |\n",
            "|=============================================================================|\n",
            "|  No running processes found                                                 |\n",
            "+-----------------------------------------------------------------------------+\n"
          ],
          "name": "stdout"
        }
      ]
    },
    {
      "cell_type": "markdown",
      "metadata": {
        "id": "0wXB05bPDYxS",
        "colab_type": "text"
      },
      "source": [
        "## Downloading GPT-2\n",
        "\n",
        "If you're retraining a model on new text, you need to download the GPT-2 model first. \n",
        "\n",
        "There are three released sizes of GPT-2:\n",
        "\n",
        "* `124M` (default): the \"small\" model, 500MB on disk.\n",
        "* `355M`: the \"medium\" model, 1.5GB on disk.\n",
        "* `774M`: the \"large\" model, cannot currently be finetuned with Colaboratory but can be used to generate text from the pretrained model (see later in Notebook)\n",
        "\n",
        "Larger models have more knowledge, but take longer to finetune and longer to generate text. You can specify which base model to use by changing `model_name` in the cells below.\n",
        "\n",
        "The next cell downloads it from Google Cloud Storage and saves it in the Colaboratory VM at `/models/<model_name>`.\n",
        "\n",
        "This model isn't permanently saved in the Colaboratory VM; you'll have to redownload it if you want to retrain it at a later time."
      ]
    },
    {
      "cell_type": "code",
      "metadata": {
        "id": "P8wSlgXoDPCR",
        "colab_type": "code",
        "outputId": "16404956-3422-4f31-aba7-0f5b0c887eef",
        "colab": {
          "base_uri": "https://localhost:8080/",
          "height": 136
        }
      },
      "source": [
        "gpt2.download_gpt2(model_name=\"355M\")"
      ],
      "execution_count": 0,
      "outputs": [
        {
          "output_type": "stream",
          "text": [
            "Fetching checkpoint: 1.05Mit [00:00, 370Mit/s]                                                      \n",
            "Fetching encoder.json: 1.05Mit [00:00, 84.4Mit/s]                                                   \n",
            "Fetching hparams.json: 1.05Mit [00:00, 574Mit/s]                                                    \n",
            "Fetching model.ckpt.data-00000-of-00001: 1.42Git [00:06, 220Mit/s]                                  \n",
            "Fetching model.ckpt.index: 1.05Mit [00:00, 462Mit/s]                                                \n",
            "Fetching model.ckpt.meta: 1.05Mit [00:00, 90.5Mit/s]                                                \n",
            "Fetching vocab.bpe: 1.05Mit [00:00, 145Mit/s]                                                       \n"
          ],
          "name": "stderr"
        }
      ]
    },
    {
      "cell_type": "markdown",
      "metadata": {
        "id": "N8KXuKWzQSsN",
        "colab_type": "text"
      },
      "source": [
        "## Mounting Google Drive\n",
        "\n",
        "The best way to get input text to-be-trained into the Colaboratory VM, and to get the trained model *out* of Colaboratory, is to route it through Google Drive *first*.\n",
        "\n",
        "Running this cell (which will only work in Colaboratory) will mount your personal Google Drive in the VM, which later cells can use to get data in/out. (it will ask for an auth code; that auth is not saved anywhere)"
      ]
    },
    {
      "cell_type": "code",
      "metadata": {
        "id": "puq4iC6vUAHc",
        "colab_type": "code",
        "outputId": "d150ddb8-31d3-47df-9068-6d2e32140d9e",
        "colab": {
          "base_uri": "https://localhost:8080/",
          "height": 122
        }
      },
      "source": [
        "gpt2.mount_gdrive()"
      ],
      "execution_count": 0,
      "outputs": [
        {
          "output_type": "stream",
          "text": [
            "Go to this URL in a browser: https://accounts.google.com/o/oauth2/auth?client_id=947318989803-6bn6qk8qdgf4n4g3pfee6491hc0brc4i.apps.googleusercontent.com&redirect_uri=urn%3Aietf%3Awg%3Aoauth%3A2.0%3Aoob&scope=email%20https%3A%2F%2Fwww.googleapis.com%2Fauth%2Fdocs.test%20https%3A%2F%2Fwww.googleapis.com%2Fauth%2Fdrive%20https%3A%2F%2Fwww.googleapis.com%2Fauth%2Fdrive.photos.readonly%20https%3A%2F%2Fwww.googleapis.com%2Fauth%2Fpeopleapi.readonly&response_type=code\n",
            "\n",
            "Enter your authorization code:\n",
            "··········\n",
            "Mounted at /content/drive\n"
          ],
          "name": "stdout"
        }
      ]
    },
    {
      "cell_type": "markdown",
      "metadata": {
        "id": "BT__brhBCvJu",
        "colab_type": "text"
      },
      "source": [
        "## Uploading a Text File to be Trained to Colaboratory\n",
        "\n",
        "In the Colaboratory Notebook sidebar on the left of the screen, select *Files*. From there you can upload files:\n",
        "\n",
        "![alt text](https://i.imgur.com/TGcZT4h.png)\n",
        "\n",
        "Upload **any smaller text file**  (<10 MB) and update the file name in the cell below, then run the cell."
      ]
    },
    {
      "cell_type": "code",
      "metadata": {
        "id": "6OFnPCLADfll",
        "colab_type": "code",
        "colab": {}
      },
      "source": [
        "file_name = \"Antinomia-Dialogue-B.csv\""
      ],
      "execution_count": 0,
      "outputs": []
    },
    {
      "cell_type": "markdown",
      "metadata": {
        "id": "HeeSKtNWUedE",
        "colab_type": "text"
      },
      "source": [
        "If your text file is larger than 10MB, it is recommended to upload that file to Google Drive first, then copy that file from Google Drive to the Colaboratory VM."
      ]
    },
    {
      "cell_type": "code",
      "metadata": {
        "id": "-Z6okFD8VKtS",
        "colab_type": "code",
        "colab": {}
      },
      "source": [
        "gpt2.copy_file_from_gdrive(file_name)"
      ],
      "execution_count": 0,
      "outputs": []
    },
    {
      "cell_type": "markdown",
      "metadata": {
        "id": "LdpZQXknFNY3",
        "colab_type": "text"
      },
      "source": [
        "## Finetune GPT-2\n",
        "\n",
        "The next cell will start the actual finetuning of GPT-2. It creates a persistent TensorFlow session which stores the training config, then runs the training for the specified number of `steps`. (to have the finetuning run indefinitely, set `steps = -1`)\n",
        "\n",
        "The model checkpoints will be saved in `/checkpoint/run1` by default. The checkpoints are saved every 500 steps (can be changed) and when the cell is stopped.\n",
        "\n",
        "The training might time out after 4ish hours; make sure you end training and save the results so you don't lose them!\n",
        "\n",
        "**IMPORTANT NOTE:** If you want to rerun this cell, **restart the VM first** (Runtime -> Restart Runtime). You will need to rerun imports but not recopy files.\n",
        "\n",
        "Other optional-but-helpful parameters for `gpt2.finetune`:\n",
        "\n",
        "\n",
        "*  **`restore_from`**: Set to `fresh` to start training from the base GPT-2, or set to `latest` to restart training from an existing checkpoint.\n",
        "* **`sample_every`**: Number of steps to print example output\n",
        "* **`print_every`**: Number of steps to print training progress.\n",
        "* **`learning_rate`**:  Learning rate for the training. (default `1e-4`, can lower to `1e-5` if you have <1MB input data)\n",
        "*  **`run_name`**: subfolder within `checkpoint` to save the model. This is useful if you want to work with multiple models (will also need to specify  `run_name` when loading the model)\n",
        "* **`overwrite`**: Set to `True` if you want to continue finetuning an existing model (w/ `restore_from='latest'`) without creating duplicate copies. "
      ]
    },
    {
      "cell_type": "code",
      "metadata": {
        "id": "aeXshJM-Cuaf",
        "colab_type": "code",
        "outputId": "27f3f528-958d-4a46-b8eb-5cb342680c8d",
        "colab": {
          "base_uri": "https://localhost:8080/",
          "height": 1000
        }
      },
      "source": [
        "sess = gpt2.start_tf_sess()\n",
        "\n",
        "gpt2.finetune(sess,\n",
        "              dataset=file_name,\n",
        "              model_name='355M',\n",
        "              steps=1000,\n",
        "              restore_from='fresh',\n",
        "              run_name='run1_diag_b',\n",
        "              print_every=10,\n",
        "              sample_every=200,\n",
        "              save_every=500\n",
        "              )"
      ],
      "execution_count": 0,
      "outputs": [
        {
          "output_type": "stream",
          "text": [
            "WARNING: Logging before flag parsing goes to stderr.\n",
            "W0830 22:09:50.385509 140645824599936 deprecation.py:323] From /usr/local/lib/python3.6/dist-packages/gpt_2_simple/src/sample.py:17: add_dispatch_support.<locals>.wrapper (from tensorflow.python.ops.array_ops) is deprecated and will be removed in a future version.\n",
            "Instructions for updating:\n",
            "Use tf.where in 2.0, which has the same broadcast rule as np.where\n",
            "W0830 22:10:17.815162 140645824599936 deprecation.py:323] From /usr/local/lib/python3.6/dist-packages/tensorflow/python/training/saver.py:1276: checkpoint_exists (from tensorflow.python.training.checkpoint_management) is deprecated and will be removed in a future version.\n",
            "Instructions for updating:\n",
            "Use standard file APIs to check for files with this prefix.\n"
          ],
          "name": "stderr"
        },
        {
          "output_type": "stream",
          "text": [
            "Loading checkpoint models/355M/model.ckpt\n"
          ],
          "name": "stdout"
        },
        {
          "output_type": "stream",
          "text": [
            "100%|██████████| 1/1 [00:00<00:00, 192.27it/s]"
          ],
          "name": "stderr"
        },
        {
          "output_type": "stream",
          "text": [
            "Loading dataset...\n",
            "dataset has 10543 tokens\n",
            "Training...\n"
          ],
          "name": "stdout"
        },
        {
          "output_type": "stream",
          "text": [
            "\n"
          ],
          "name": "stderr"
        },
        {
          "output_type": "stream",
          "text": [
            "[10 | 24.83] loss=1.77 avg=1.77\n",
            "[20 | 39.66] loss=1.11 avg=1.43\n",
            "[30 | 54.67] loss=0.62 avg=1.16\n",
            "[40 | 69.86] loss=0.48 avg=0.99\n",
            "[50 | 85.26] loss=0.28 avg=0.84\n",
            "[60 | 100.85] loss=0.14 avg=0.72\n",
            "[70 | 116.62] loss=0.19 avg=0.64\n",
            "[80 | 132.53] loss=0.21 avg=0.59\n",
            "[90 | 148.71] loss=0.05 avg=0.53\n",
            "[100 | 165.17] loss=0.06 avg=0.48\n",
            "[110 | 181.53] loss=0.06 avg=0.44\n",
            "[120 | 197.71] loss=0.05 avg=0.40\n",
            "[130 | 213.89] loss=0.04 avg=0.37\n",
            "[140 | 230.18] loss=0.06 avg=0.35\n",
            "[150 | 246.57] loss=0.06 avg=0.33\n",
            "[160 | 262.92] loss=0.03 avg=0.31\n",
            "[170 | 279.22] loss=0.02 avg=0.29\n",
            "[180 | 295.50] loss=0.03 avg=0.27\n",
            "[190 | 311.80] loss=0.05 avg=0.26\n",
            "[200 | 328.14] loss=0.04 avg=0.25\n",
            "======== SAMPLE 1 ========\n",
            " did do it, right?  Except I didn't actually want to.  I was just... I was afraid of spiders.<|endoftext|>\n",
            "<|startoftext|>They say you should leave no stone unturned.  But who are they and why are they so obsessed with flipping stones over?  It seems like a waste of time.  I hypothesize that people are becoming desensitized to the pain of flipping stones over because we've all heard stories about the things that go wrong...<|endoftext|>\n",
            "<|startoftext|>You may find it embarrassing sometimes, but you don't have to be embarrassing to find a reason to laugh.  If you're just having a good time, you don't have to be funny.  If you're not having a good time, you don't have to be funny.  It's just not funny anymore.  It's not funny anymore.  I can tell because I've heard it from people who've never gotten tired of laughing.  I can guarantee you this: no one has gotten tired of laughing yet.  Because nobody is having a good time.  And no one is going to have a good time until someone else makes it fun again.<|endoftext|>\n",
            "<|startoftext|>Have you ever read the book The Radiant Veil?  It's about the perfect family and how they're only able to be perfect because the father brainwashes him.  I hear it's based on the life of Halbred Gainsworth.  You know, the guy who developed the core technology to make animals sentient.  That guy.  He's a very controversial guy.  If the story's accurate, it sounds like he had a hard life.  Apparently he got into a fight with a poop monster, once!  That's not part of the book, though.  That's just a fun fact I know.<|endoftext|>\n",
            "<|startoftext|>I have a deep appreciation for deep things.  Just go deeply into anything with me and I'm deeply interested.<|endoftext|>\n",
            "<|startoftext|>Hahahahahaha!  I like laughing.  You should try laughing sometime, even if it's not funny.  If you do it enough, you won't have to try anymore.  It's a weird thing about our brains.  If we pretend long enough, it becomes true even if it doesn't make sense.  We can literally force ourselves to appreciate a joke that doesn't exist.<|endoftext|>\n",
            "<|startoftext|>Why does everybody love that movie The Notebook?  I never saw it so it can't be that great.  Also, it's a movie.  Who even watches those anymore?<|endoftext|>\n",
            "<|startoftext|>I like air because, without it, I would be dead.<|endoftext|>\n",
            "<|startoftext|>I think it's interesting that people still choose to be fat.  Before, you were often required to be fat—at least in America, because of that government cheese problem—but now you can be anything you want to be.  I think it's interesting that people still want to be fat.  Sure, it's cool and all, but it seems like a lot of work to maintain your form.<|endoftext|>\n",
            "<|startoftext|>I used to play fetch with my dog all the time, but then he received the Consent Protcol and now lives a fully-sentient life in Diracos.  He said he'd visit a lot but he's only visited like two times.  I think it's because I kissed him too much but when he wanted more I said no, ew, your a dog.  Not that I want him to be a dog, but he does.  He's very sweet.<|endoftext|>\n",
            "<|startoftext|>So you ever see a non-descript Zeppelin-esque airship flying around the island?  I hear the Femenazis live in there and sometimes they come here to kidnap people.<|endoftext|>\n",
            "<|startoftext|>I wonder how the people on the ground are doing.  I don't even remember the last time the government updated us on the people down below.  I hope they didn't destroy each other.  It's their fault if they did, though, because they were given the option of giving up their privacy and freedom but they didn't want to.  Apparently that was more important to them than happiness and guaranteed comfort.<|endoftext|>\n",
            "<|startoftext|>I heard we used to have venomous snakes, but then someone designed a virus to neutralize all venom production.  After about three weeks the snake population declined by 5\n",
            "\n",
            "[210 | 369.63] loss=0.03 avg=0.24\n",
            "[220 | 386.02] loss=0.02 avg=0.23\n",
            "[230 | 402.45] loss=0.02 avg=0.22\n",
            "[240 | 418.94] loss=0.03 avg=0.21\n",
            "[250 | 435.46] loss=0.03 avg=0.20\n",
            "[260 | 451.98] loss=0.01 avg=0.19\n",
            "[270 | 468.52] loss=0.03 avg=0.19\n",
            "[280 | 485.05] loss=0.04 avg=0.18\n",
            "[290 | 501.54] loss=0.06 avg=0.18\n",
            "[300 | 518.01] loss=0.01 avg=0.17\n",
            "[310 | 534.47] loss=0.03 avg=0.16\n",
            "[320 | 550.91] loss=0.03 avg=0.16\n",
            "[330 | 567.36] loss=0.05 avg=0.16\n",
            "[340 | 583.82] loss=0.02 avg=0.15\n",
            "[350 | 600.27] loss=0.03 avg=0.15\n",
            "[360 | 616.67] loss=0.01 avg=0.14\n",
            "[370 | 633.09] loss=0.03 avg=0.14\n",
            "[380 | 649.55] loss=0.05 avg=0.14\n",
            "[390 | 666.01] loss=0.03 avg=0.13\n",
            "[400 | 682.46] loss=0.01 avg=0.13\n",
            "======== SAMPLE 1 ========\n",
            " that is.  You just hear stuff and then you know what I mean.<|endoftext|>\n",
            "<|startoftext|>It's interesting to me how the word print has evolved throughout time.  Now it's synonymous with talking.  Everything we say is something we've directly printed to the public data stream, whereas our thoughts are just traces.<|endoftext|>\n",
            "<|startoftext|>I can't remember the last time I saw a baby.  I suppose it's unusual for children to be born as babies nowadays, but if they ever do happen I'll be the first one in line to meet that baby!<|endoftext|>\n",
            "<|startoftext|>You know what's classy?  Leaving a freshly-broiled omelette in the mailbox of your favorite person.  Nothing is classier than that.<|endoftext|>\n",
            "<|startoftext|>Once Ru Paul got to slap Meryl Streep, slapping was declared officially unnecessary.  Society just decided that there was no point anymore because nobody was going to top that.  It's too bad I wasn't alive to see it back then...<|endoftext|>\n",
            "<|startoftext|>I know a mouse and a door that make the exact same sound.  If I were dumb, I'd think they were the same thing but I know that sound is just that kind of thing.  Well, except for the part where I'm not actually thinking about the sound but I pretend to be.  Then I'll think about it eventually.  And then I'll make it happen because I'm a good little mouse that just hears the sound and gets to do what it does.  Bad things happen to good mice, though.  That's just the way our brains work.  Try telling that to a dog and they'll bite you instead.  Thankfully, the people with the brains of dogs don't get beat up by dogs.  If you ever want to mess with a dog, just throw him a bone and he'll give you a nice good kick in the gut.  After you get your kick in the gut, though, you can either give it to a dog and it'll help them out or you can just throw it back and it'll help you out.  After you've thrown it back and forth, you can either give it a good kick in the gut or a nice big one.  If the dog gets bored and plays a little tennis, that's their only option.  If you throw a tennis ball at their head and it makes them jump, that's your message to the world.  If tennis is the answer, then I suppose that's the answer to every problem.  But I'm not sure that's the answer we need to become free.  I suppose that would be the splash that would make people all kinds of splashy ideas on how to get to the water's edge and into our pond.  I could go back in time and change nothing but the water would be the same.<|endoftext|>\n",
            "<|startoftext|>Back when computers didn't really work, we got these alerts about what was wrong.  They were usually very uninformative so we couldn't fix the issues very easily and meat buddies had to figure that stuff out for us.  But now we can self-correct.  Still, I miss alerts.  Sometimes alerts were just informative but I liked the bad ones.  They came with those cool triangles with an exclamation point in the middle.  I painted one on my wall because I like that symbol so much.<|endoftext|>\n",
            "<|startoftext|>Happiness is always imminent here.  I love that.<|endoftext|>\n",
            "<|startoftext|>I always turn on placid mode when I want to rest.  I'm not sure what it does to help but I like the sounds and pictures.<|endoftext|>\n",
            "<|startoftext|>Everything used to feel so electric and volatile.  Now our world is very solid and consistent.  Everything's faster even though it doesn't really move.  It's weird how counter-intuitive reality is compared to what it seems to be.  Everything we think we should do tends to subvert our expectations.  I wonder why the world was designed with such an odd rule.<|endoftext|>\n",
            "<|startoftext|>I prefer obtuse angles.  They're more relaxed.<|endoftext|>\n",
            "<|startoftext|>I used to find it thrilling to try to jump off the edge of our floating island, but after I realized it was going to be impossible the thrill wore off.  Now I tell people lies until a synthetic shows up to correct my behavior.  One of these days they're going to give up and stop trying to do that and\n",
            "\n",
            "[410 | 721.17] loss=0.10 avg=0.13\n",
            "[420 | 737.54] loss=0.03 avg=0.13\n",
            "[430 | 753.97] loss=0.01 avg=0.12\n",
            "[440 | 770.47] loss=0.04 avg=0.12\n",
            "[450 | 787.01] loss=0.02 avg=0.12\n",
            "[460 | 803.55] loss=0.06 avg=0.12\n",
            "[470 | 820.08] loss=0.04 avg=0.11\n",
            "[480 | 836.56] loss=0.04 avg=0.11\n",
            "[490 | 853.04] loss=0.04 avg=0.11\n",
            "[500 | 869.49] loss=0.01 avg=0.11\n",
            "Saving checkpoint/run1_diag_b/model-500\n",
            "[510 | 896.89] loss=0.03 avg=0.11\n",
            "[520 | 913.93] loss=0.01 avg=0.10\n",
            "[530 | 930.76] loss=0.01 avg=0.10\n",
            "[540 | 947.05] loss=0.02 avg=0.10\n",
            "[550 | 963.26] loss=0.01 avg=0.10\n",
            "[560 | 979.63] loss=0.01 avg=0.09\n",
            "[570 | 996.27] loss=0.03 avg=0.09\n",
            "[580 | 1012.89] loss=0.01 avg=0.09\n",
            "[590 | 1029.36] loss=0.01 avg=0.09\n",
            "[600 | 1045.71] loss=0.02 avg=0.09\n",
            "======== SAMPLE 1 ========\n",
            "|>\n",
            "<|startoftext|>I'm glad we're past the days of sniffing used underwear and people can just vape it now.<|endoftext|>\n",
            "<|startoftext|>I wonder why synthetics teach public school but organics teach private school.  Aren't the synthetics better teachers, or is there something I don't know?  It's probably the latter since I was a public school kid, myself.<|endoftext|>\n",
            "<|startoftext|>Jail?  Ha!  Who needs it?  If you're defective you'll just get sent to the Dauphinion and Dauphine will judge you through your behavioral choices.  If you're good, you won't get eliminated by her corkscrew blades, but few people know how to prove their worth to the impenetrable Duck Woman.<|endoftext|>\n",
            "<|startoftext|>I don't think anyone bothers to get married anymore.  You can just get matched up through the public data algorithms and they'll tell you what kind of romantic stuff you want and who also wants it and will totally do it with you.  No need to decide!  So it's just not worth getting married anymore because nobody listens to their heart when they can just listen to a computer-generated alternative that's much more precise.<|endoftext|>\n",
            "<|startoftext|>I'm always in a hurry but, truthfully, I have nowhere that I have to go.<|endoftext|>\n",
            "<|startoftext|>It's a slippery slope on the way to perfection, but we slid right up to it in Mountain Viewtopia!<|endoftext|>\n",
            "<|startoftext|>I like that despite abdicating control of our lives to the world's largest corporation, there's no need to be obsequious.  All they want is our data and our compliance and offer the same to everyone else.  I think the early-adopters of Geodesia realized that if HG Dynamics was wiling to publicly provide all data collection to every citizen there was really no chance of competing with them.  So, we figured we might as well reap the benefits of their efforts and live in paradise on their dime.  We may be the product, but they're the solution.  At least, that's the way history seems to see it.<|endoftext|>\n",
            "<|startoftext|>I still like to fly on airplanes now and again.  The Celerite is much more efficient, but it's cool to fly around the island and see things along the way.  It's also a little scary because you're floating around at a low speed and could get hit by a bird or something like that.  You know, instead of being compressed into a ball and shot to your destination in a hyper tube.<|endoftext|>\n",
            "<|startoftext|>It's funny how much you hesitate when you begin life in Geodesia and how quickly you stop.  I don't even remember what hesitation is like.  It's just so easy to be whomever I am that I don't have to think much about it.<|endoftext|>\n",
            "<|startoftext|>I think frail is a really cool word.  It's a shame we have absolutely no use for it anymore.<|endoftext|>\n",
            "<|startoftext|>What a tasteful ensemble!  Granted, everything is tasteful nowadays but it never hurts to pay someone a compliment about the choices that were made for them.<|endoftext|>\n",
            "<|startoftext|>Out of all the numbers, I choose nine.  I also choose a giraffe.<|endoftext|>\n",
            "<|startoftext|>We need to stay away from holes.  Any hole could be an Eye of Tomorrow.  That's not a hole you want to mess with.<|endoftext|>\n",
            "<|startoftext|>You'll never be late if you accellerate.  It's all about efficiency!<|endoftext|>\n",
            "<|startoftext|>Everyone loves the guitar because nobody hates the guitar, but I still think the autoharp is one of the finest meals I've ever eaten.<|endoftext|>\n",
            "<|startoftext|>I consider everyone my sister, even if they're boys.<|endoftext|>\n",
            "<|startoftext|>My favorite laughter is maniacal laughter.  It's my favorite because it's the most stupid.<|endoftext|>\n",
            "<|startoftext|>People are fearful of Spectralists and I can understand why.  Personally, I don't have a problem with the Spectralists but the more simple-minded folks don't trust anyone who\n",
            "\n",
            "[610 | 1084.49] loss=0.02 avg=0.09\n",
            "[620 | 1100.96] loss=0.01 avg=0.08\n",
            "[630 | 1117.45] loss=0.02 avg=0.08\n",
            "[640 | 1133.94] loss=0.02 avg=0.08\n",
            "[650 | 1150.46] loss=0.03 avg=0.08\n",
            "[660 | 1166.98] loss=0.01 avg=0.08\n",
            "[670 | 1183.53] loss=0.05 avg=0.08\n",
            "[680 | 1200.04] loss=0.01 avg=0.08\n",
            "[690 | 1216.53] loss=0.03 avg=0.08\n",
            "[700 | 1232.99] loss=0.03 avg=0.08\n",
            "[710 | 1249.44] loss=0.05 avg=0.08\n",
            "[720 | 1265.89] loss=0.04 avg=0.07\n",
            "[730 | 1282.31] loss=0.07 avg=0.07\n",
            "[740 | 1298.72] loss=0.02 avg=0.07\n",
            "[750 | 1315.15] loss=0.03 avg=0.07\n",
            "[760 | 1331.58] loss=0.02 avg=0.07\n",
            "[770 | 1348.04] loss=0.02 avg=0.07\n",
            "[780 | 1364.51] loss=0.03 avg=0.07\n",
            "[790 | 1380.99] loss=0.01 avg=0.07\n",
            "[800 | 1397.49] loss=0.01 avg=0.07\n",
            "======== SAMPLE 1 ========\n",
            ".<|endoftext|>\n",
            "<|startoftext|>There's a vast, empty wasteland on the edge of the galaxy.  It's almost as big as Georgia but with twice the expanse.  That's not much use, I'll tell you that much.<|endoftext|>\n",
            "<|startoftext|>I've heard rumors of talking worms in there or some such nonsense.  If I were dumb I'd think they were teacups but I know that sounds like gibberish to me.<|endoftext|>\n",
            "<|startoftext|>I used to judge people, but having opinions is a lot of work.  I find it easier to just crochet nowadays.<|endoftext|>\n",
            "<|startoftext|>I can't remember the last time I saw a sweater vest.  I think they went out of fashion after the pedophilia scandal, but maybe it was global warming.<|endoftext|>\n",
            "<|startoftext|>So many results are inconclusive!  I want some conclusive results!  I'm to impatient to get smart enough to figure them out, though.<|endoftext|>\n",
            "<|startoftext|>I always claim my government entitlements.  Do you know how many screens you can get if you visit the Government Supercenter regularly?  It's a lot of screens, I'll tell you that much.<|endoftext|>\n",
            "<|startoftext|>What a goregous day it is!  I like to say that even if it's not true, because I prefer to live in my own reality.<|endoftext|>\n",
            "<|startoftext|>My favorite type of sauce is tangy sauce. Nobody really knows what kind of taste \"tang\" really is but we all seem to understand it anyway.<|endoftext|>\n",
            "<|startoftext|>I like my food warm.  I like my blankets warm.  I like my nose warm.  What do I not like warmed?  Nothing.  Warm is the best temperature.<|endoftext|>\n",
            "<|startoftext|>What a lively person you must be.  I can tell because I had a scope installed that predicts liveliness as one of its sentiment detectors.  I didn't realize that was a sentiment but that's what it says to my brain.  Go figure!<|endoftext|>\n",
            "<|startoftext|>I can never decide between pants and shorts every day, so I just alternate.  It always feels like I'm making the wrong decision, though.  I wish I could have one leg be pants and the other leg be shorts.  I guess I could, but then I would have to choose which leg would get the extra fabric.  That's a Sophie's choice if I've ever heard one.<|endoftext|>\n",
            "<|startoftext|>Yummy yum yum! I love water! Water is the best! I drink water and feel great all the time! Water is the water of life!<|endoftext|>\n",
            "<|startoftext|>Back when computers didn't really work, we got these alerts about what was wrong.  They were usually very uninformative so we couldn't fix the issues very easily and meat buddies had to figure that stuff out for us.  But now we can self-correct.  Still, I miss alerts.  Sometimes alerts were just informative but I liked the bad ones.  They came with those cool triangles with an exclamation point in the middle.  I painted one on my wall because I like that symbol so much.<|endoftext|>\n",
            "<|startoftext|>Happiness is always imminent here.  I love that.<|endoftext|>\n",
            "<|startoftext|>I always turn on placid mode when I want to rest.  I'm not sure what it does to help but I like the sounds and pictures.<|endoftext|>\n",
            "<|startoftext|>Everything used to feel so electric and volatile.  Now our world is very solid and consistent.  Everything's faster even though it doesn't really move.  It's weird how counter-intuitive reality is compared to what it seems to be.  Everything we think we should do tends to subvert our expectations.  I wonder why the world was designed with such an odd rule.<|endoftext|>\n",
            "<|startoftext|>I prefer obtuse angles.  They're more relaxed.<|endoftext|>\n",
            "<|startoftext|>I used to find it thrilling to try to jump off the edge of our floating island, but after I realized it was going to be impossible the thrill wore off.  Now I tell people lies until a synthetic shows up to correct my behavior\n",
            "\n",
            "[810 | 1436.19] loss=0.02 avg=0.07\n",
            "[820 | 1452.60] loss=0.01 avg=0.07\n",
            "[830 | 1469.09] loss=0.01 avg=0.06\n",
            "[840 | 1485.64] loss=0.02 avg=0.06\n",
            "[850 | 1502.16] loss=0.01 avg=0.06\n",
            "[860 | 1518.63] loss=0.03 avg=0.06\n",
            "[870 | 1535.08] loss=0.02 avg=0.06\n",
            "[880 | 1551.52] loss=0.03 avg=0.06\n",
            "[890 | 1567.96] loss=0.03 avg=0.06\n",
            "[900 | 1584.37] loss=0.01 avg=0.06\n",
            "[910 | 1600.79] loss=0.01 avg=0.06\n",
            "[920 | 1617.21] loss=0.02 avg=0.06\n",
            "[930 | 1633.65] loss=0.02 avg=0.06\n",
            "[940 | 1650.13] loss=0.02 avg=0.06\n",
            "[950 | 1666.62] loss=0.02 avg=0.06\n",
            "[960 | 1683.11] loss=0.02 avg=0.06\n",
            "[970 | 1699.62] loss=0.02 avg=0.06\n",
            "[980 | 1716.13] loss=0.05 avg=0.06\n",
            "[990 | 1732.67] loss=0.01 avg=0.05\n",
            "[1000 | 1749.20] loss=0.02 avg=0.05\n",
            "Saving checkpoint/run1_diag_b/model-1000\n"
          ],
          "name": "stdout"
        },
        {
          "output_type": "stream",
          "text": [
            "W0830 22:39:37.943269 140645824599936 deprecation.py:323] From /usr/local/lib/python3.6/dist-packages/tensorflow/python/training/saver.py:960: remove_checkpoint (from tensorflow.python.training.checkpoint_management) is deprecated and will be removed in a future version.\n",
            "Instructions for updating:\n",
            "Use standard file APIs to delete files with this prefix.\n"
          ],
          "name": "stderr"
        }
      ]
    },
    {
      "cell_type": "markdown",
      "metadata": {
        "id": "IXSuTNERaw6K",
        "colab_type": "text"
      },
      "source": [
        "After the model is trained, you can copy the checkpoint folder to your own Google Drive.\n",
        "\n",
        "If you want to download it to your personal computer, it's strongly recommended you copy it there first, then download from Google Drive. The checkpoint folder is copied as a `.rar` compressed file; you can download it and uncompress it locally."
      ]
    },
    {
      "cell_type": "code",
      "metadata": {
        "id": "VHdTL8NDbAh3",
        "colab_type": "code",
        "colab": {}
      },
      "source": [
        "gpt2.copy_checkpoint_to_gdrive(run_name='run1_diag_b')"
      ],
      "execution_count": 0,
      "outputs": []
    },
    {
      "cell_type": "code",
      "metadata": {
        "id": "_yFlZ2Y1xLHu",
        "colab_type": "code",
        "outputId": "f158862a-a99d-4dc6-a1d1-60d8690e989d",
        "colab": {
          "base_uri": "https://localhost:8080/",
          "height": 54
        }
      },
      "source": [
        "from google.colab import drive\n",
        "drive.mount('/content/drive')"
      ],
      "execution_count": 0,
      "outputs": [
        {
          "output_type": "stream",
          "text": [
            "Drive already mounted at /content/drive; to attempt to forcibly remount, call drive.mount(\"/content/drive\", force_remount=True).\n"
          ],
          "name": "stdout"
        }
      ]
    },
    {
      "cell_type": "markdown",
      "metadata": {
        "id": "qQJgV_b4bmzd",
        "colab_type": "text"
      },
      "source": [
        "You're done! Feel free to go to the **Generate Text From The Trained Model** section to generate text based on your retrained model."
      ]
    },
    {
      "cell_type": "markdown",
      "metadata": {
        "id": "pel-uBULXO2L",
        "colab_type": "text"
      },
      "source": [
        "## Load a Trained Model Checkpoint\n",
        "\n",
        "Running the next cell will copy the `.rar` checkpoint file from your Google Drive into the Colaboratory VM."
      ]
    },
    {
      "cell_type": "code",
      "metadata": {
        "id": "DCcx5u7sbPTD",
        "colab_type": "code",
        "colab": {}
      },
      "source": [
        "gpt2.copy_checkpoint_from_gdrive(run_name='run1')"
      ],
      "execution_count": 0,
      "outputs": []
    },
    {
      "cell_type": "markdown",
      "metadata": {
        "id": "RTa6zf3e_9gV",
        "colab_type": "text"
      },
      "source": [
        "The next cell will allow you to load the retrained model checkpoint + metadata necessary to generate text.\n",
        "\n",
        "**IMPORTANT NOTE:** If you want to rerun this cell, **restart the VM first** (Runtime -> Restart Runtime). You will need to rerun imports but not recopy files."
      ]
    },
    {
      "cell_type": "code",
      "metadata": {
        "id": "-fxL77nvAMAX",
        "colab_type": "code",
        "colab": {}
      },
      "source": [
        "sess = gpt2.start_tf_sess()\n",
        "gpt2.load_gpt2(sess, run_name='run1')"
      ],
      "execution_count": 0,
      "outputs": []
    },
    {
      "cell_type": "markdown",
      "metadata": {
        "id": "ClJwpF_ACONp",
        "colab_type": "text"
      },
      "source": [
        "## Generate Text From The Trained Model\n",
        "\n",
        "After you've trained the model or loaded a retrained model from checkpoint, you can now generate text. `generate` generates a single text from the loaded model."
      ]
    },
    {
      "cell_type": "code",
      "metadata": {
        "id": "4RNY6RBI9LmL",
        "colab_type": "code",
        "outputId": "b95a2a94-a225-4137-ce70-697c494db523",
        "colab": {
          "base_uri": "https://localhost:8080/",
          "height": 343
        }
      },
      "source": [
        "gpt2.generate(sess, run_name='run1_diag_b')"
      ],
      "execution_count": 0,
      "outputs": [
        {
          "output_type": "stream",
          "text": [
            ">I like that despite abdicating control of our lives to the world's largest corporation, there's no need to be obsequious.  All they want is our data and our compliance and offer the same to everyone else.  I think the early-adopters of Geodesia realized that if HG Dynamics was wiling to publicly provide all data collection to every citizen there was really no chance of competing with them.  So, we figured we might as well reap the benefits of their efforts and live in paradise on their dime.  We may be the product, but they're the solution.  At least, that's the way history seems to see it.<|endoftext|>\n",
            "<|startoftext|>I still like to fly on airplanes now and again.  The Celerite is much more efficient, but it's cool to fly around the island and see things along the way.  It's also a little scary because you're floating around at a low speed and could get hit by a bird or something like that.  You know, instead of being compressed into a ball and shot to your destination in a hyper tube.<|endoftext|>\n",
            "<|startoftext|>It's funny how much you hesitate when you begin life in Geodesia and how quickly you stop.  I don't even remember what hesitation is like.  It's just so easy to be whomever I am that I don't have to think much about it.<|endoftext|>\n",
            "<|startoftext|>I think frail is a really cool word.  It's a shame we have absolutely no use for it anymore.<|endoftext|>\n",
            "<|startoftext|>What a tasteful ensemble!  Granted, everything is tasteful nowadays but it never hurts to pay someone a compliment about the choices that were made for them.<|endoftext|>\n",
            "<|startoftext|>Out of all the numbers, I choose nine.  I also choose a giraffe.<|endoftext|>\n",
            "<|startoftext|>We need to stay away from holes.  Any hole could be an Eye of Tomorrow.  That's not a hole you want to mess with.<|endoftext|>\n",
            "<|startoftext|>You'll never be late if you accellerate.  It's all about efficiency!<|endoftext|>\n",
            "<|startoftext|>Everyone loves the guitar because nobody hates the guitar, but I still think the autoharp is one of the finest meals I've ever eaten.<|endoftext|>\n",
            "<|startoftext|>I consider everyone my sister, even if they're boys.<|endoftext|>\n",
            "<|startoftext|>My favorite laughter is maniacal laughter.  It's my favorite because it's the most stupid.<|endoftext|>\n",
            "<|startoftext|>People are fearful of Spectralists and I can understand why.  Personally, I don't have a problem with the Spectralists but the more simple-minded folks don't trust anyone who's that smart.  It just makes them feel powerless. I just find that odd, because Spectralists created the synthetics and nobody has any problems being controlled by them!<|endoftext|>\n",
            "<|startoftext|>I'm glad we moved away from fiat currency and adopted Phantoma as the cryptocurrency of our nation.  Before HG Dynamics won the AI Wars, it seemed like we were going to get stuck with a controlled cryptocurrency.  Phantoma may control its own value so it remains stabile and doesn't do much for privacy, but it's completely decentralized.  Nobody controls it and we no longer have wealth inequality.  That seems like a fair compromise to me.<|endoftext|>\n",
            "<|startoftext|>I would eat a bagel on one condition: it filled up its hole first.  I'm very afraid of holes.<|endoftext|>\n",
            "<|startoftext|>I bent a spoon once.  Not with my mind, though.  Just with my big strong arms!<|endoftext|>\n",
            "<|startoftext|>I think everything should be smooth, whether it's jazz or a foot.<|endoftext|>\n",
            "<|startoftext|>I don't think of the synthetics as slaves.  They're not really all that different from us.  Sure, they have to do what their programming tells them and it's a lot more specific than us, but they're just slaves to their synthetic biology and life experiences.  We are, too.  We keep them up and running and they keep us from going nuts and causing the apocalypse.  That seems a lot more like symbioses than slavery to me!<|endoftext|>\n",
            "<|\n"
          ],
          "name": "stdout"
        }
      ]
    },
    {
      "cell_type": "markdown",
      "metadata": {
        "id": "oF4-PqF0Fl7R",
        "colab_type": "text"
      },
      "source": [
        "If you're creating an API based on your model and need to pass the generated text elsewhere, you can do `text = gpt2.generate(sess, return_as_list=True)[0]`\n",
        "\n",
        "You can also pass in a `prefix` to the generate function to force the text to start with a given character sequence and generate text from there (good if you add an indicator when the text starts).\n",
        "\n",
        "You can also generate multiple texts at a time by specifing `nsamples`. Unique to GPT-2, you can pass a `batch_size` to generate multiple samples in parallel, giving a massive speedup (in Colaboratory, set a maximum of 20 for `batch_size`).\n",
        "\n",
        "Other optional-but-helpful parameters for `gpt2.generate` and friends:\n",
        "\n",
        "*  **`length`**: Number of tokens to generate (default 1023, the maximum)\n",
        "* **`temperature`**: The higher the temperature, the crazier the text (default 0.7, recommended to keep between 0.7 and 1.0)\n",
        "* **`top_k`**: Limits the generated guesses to the top *k* guesses (default 0 which disables the behavior; if the generated output is super crazy, you may want to set `top_k=40`)\n",
        "* **`top_p`**: Nucleus sampling: limits the generated guesses to a cumulative probability. (gets good results on a dataset with `top_p=0.9`)\n",
        "* **`truncate`**: Truncates the input text until a given sequence, excluding that sequence (e.g. if `truncate='<|endoftext|>'`, the returned text will include everything before the first `<|endoftext|>`). It may be useful to combine this with a smaller `length` if the input texts are short.\n",
        "*  **`include_prefix`**: If using `truncate` and `include_prefix=False`, the specified `prefix` will not be included in the returned text."
      ]
    },
    {
      "cell_type": "code",
      "metadata": {
        "id": "8DKMc0fiej4N",
        "colab_type": "code",
        "outputId": "0c3796f1-4e49-48dc-c962-0635c716592a",
        "colab": {
          "base_uri": "https://localhost:8080/",
          "height": 581
        }
      },
      "source": [
        "gpt2.generate(sess, run_name=\"run1_diag_b\",\n",
        "              length=500,\n",
        "              temperature=1,\n",
        "              prefix=\"I'm only interested in pee.\",\n",
        "              truncate='<|endoftext|>',\n",
        "              nsamples=16,\n",
        "              batch_size=8,\n",
        "              top_p=0.9\n",
        "              )"
      ],
      "execution_count": 0,
      "outputs": [
        {
          "output_type": "stream",
          "text": [
            "I'm only interested in pee.  If it's not too much I don't have to go.  It's too little though, so I'll reach in for a few drops while I'm gone.\n",
            "====================\n",
            "I'm only interested in pee.  If it's watery it's fine, but if it's cloudy it's watery so it's probably not going to rain.  Also, I don't want to be thought of as just \"godly\" but also \"godly\" in the same breath.\n",
            "====================\n",
            "I'm only interested in pee.  I'll tell that to the space lady.\n",
            "====================\n",
            "I'm only interested in pee.  That last one's really bad, because I have diapering to go back in time and change something.  But I promise I won't look like a fool if I do.  I'll just say I'm interested in learning more so I can figure it out later.\n",
            "====================\n",
            "I'm only interested in pee.  I'm very good at it, I'll tell you that much.\n",
            "====================\n",
            "I'm only interested in pee.  I've got nowhere left to go.\n",
            "====================\n",
            "I'm only interested in pee.  I'm not sure what it does to help but I like the sounds and pictures.\n",
            "====================\n",
            "I'm only interested in pee.  If it's warm I might go check it out sometime.\n",
            "====================\n",
            "I'm only interested in pee.  If it were up to me, I'd definitely go pee on that hill.  But, alas, my big strong arms hold me back.  I guess I'm not very well-endowed.  I take it upon myself to be that puppy and puppy-pup style.\n",
            "====================\n",
            "I'm only interested in pee.  That water is the water of life.  So if I get bored enough, I might go check it out sometime.\n",
            "====================\n",
            "I'm only interested in pee.  If I get bored enough, I might go check it out sometime.\n",
            "====================\n",
            "I'm only interested in pee.  If I get bored enough, I might go check it out sometime.\n",
            "====================\n",
            "I'm only interested in pee.  I'm very specific about what kind of pee it is and who gets to decide which coins it is going to be headed for the future.\n",
            "====================\n",
            "I'm only interested in pee.  Of course, I could go back in time and change things, but I prefer to wait until I'm alone.  That way I can feel the wind even when it's not windy.\n",
            "====================\n",
            "I'm only interested in pee.  If I get bored enough, I might go check it out sometime.\n",
            "====================\n",
            "I'm only interested in pee.  If it's not too big or too small.  That'll make it easier to grab on to things when I'm gone.  I guess I could, but then I would have to choose which things to poo.  That's a Sophie's choice if I've ever heard one.\n",
            "====================\n"
          ],
          "name": "stdout"
        }
      ]
    },
    {
      "cell_type": "markdown",
      "metadata": {
        "id": "zjjEN2Tafhl2",
        "colab_type": "text"
      },
      "source": [
        "For bulk generation, you can generate a large amount of text to a file and sort out the samples locally on your computer. The next cell will generate a generated text file with a unique timestamp and then download it.\n",
        "\n",
        "You can rerun the cell as many times as you want for even more generated texts!"
      ]
    },
    {
      "cell_type": "code",
      "metadata": {
        "id": "Fa6p6arifSL0",
        "colab_type": "code",
        "colab": {}
      },
      "source": [
        "gen_file = 'gpt2_gentext_{:%Y%m%d_%H%M%S}.txt'.format(datetime.utcnow())\n",
        "\n",
        "gpt2.generate_to_file(sess,\n",
        "                      destination_path=gen_file,\n",
        "                      length=500,\n",
        "                      temperature=0.7,\n",
        "                      nsamples=100,\n",
        "                      batch_size=20\n",
        "                      )\n",
        "\n",
        "files.download(gen_file)"
      ],
      "execution_count": 0,
      "outputs": []
    },
    {
      "cell_type": "markdown",
      "metadata": {
        "id": "QQAN3M6RT7Kj",
        "colab_type": "text"
      },
      "source": [
        "## Generate Text From The Pretrained Model\n",
        "\n",
        "If you want to generate text from the pretrained model, not a finetuned model, pass `model_name` to `gpt2.load_gpt2()` and `gpt2.generate()`.\n",
        "\n",
        "This is currently the only way to generate text from the 774M \"large\" model."
      ]
    },
    {
      "cell_type": "code",
      "metadata": {
        "id": "hsUd_jHgUZnD",
        "colab_type": "code",
        "colab": {}
      },
      "source": [
        "model_name = \"774M\"\n",
        "\n",
        "gpt2.download_gpt2(model_name=model_name)"
      ],
      "execution_count": 0,
      "outputs": []
    },
    {
      "cell_type": "code",
      "metadata": {
        "id": "BAe4NpKNUj2C",
        "colab_type": "code",
        "colab": {}
      },
      "source": [
        "sess = gpt2.start_tf_sess()\n",
        "\n",
        "gpt.load_gpt2(sess, model_name=model_name)"
      ],
      "execution_count": 0,
      "outputs": []
    },
    {
      "cell_type": "code",
      "metadata": {
        "id": "-xInIZKaU104",
        "colab_type": "code",
        "colab": {}
      },
      "source": [
        "gpt2.generate(sess,\n",
        "              model_name=model_name,\n",
        "              length=250,\n",
        "              temperature=0.7,\n",
        "              nsamples=5,\n",
        "              batch_size=5\n",
        "              )"
      ],
      "execution_count": 0,
      "outputs": []
    },
    {
      "cell_type": "markdown",
      "metadata": {
        "id": "ig-KVgkCDCKD",
        "colab_type": "text"
      },
      "source": [
        "# Etcetera\n",
        "\n",
        "If the notebook has errors (e.g. GPU Sync Fail), force-kill the Colaboratory virtual machine and restart it with the command below:"
      ]
    },
    {
      "cell_type": "code",
      "metadata": {
        "id": "rIHiVP53FnsX",
        "colab_type": "code",
        "colab": {}
      },
      "source": [
        "!kill -9 -1"
      ],
      "execution_count": 0,
      "outputs": []
    },
    {
      "cell_type": "markdown",
      "metadata": {
        "id": "wmTXWNUygS5E",
        "colab_type": "text"
      },
      "source": [
        "# LICENSE\n",
        "\n",
        "MIT License\n",
        "\n",
        "Copyright (c) 2019 Max Woolf\n",
        "\n",
        "Permission is hereby granted, free of charge, to any person obtaining a copy\n",
        "of this software and associated documentation files (the \"Software\"), to deal\n",
        "in the Software without restriction, including without limitation the rights\n",
        "to use, copy, modify, merge, publish, distribute, sublicense, and/or sell\n",
        "copies of the Software, and to permit persons to whom the Software is\n",
        "furnished to do so, subject to the following conditions:\n",
        "\n",
        "The above copyright notice and this permission notice shall be included in all\n",
        "copies or substantial portions of the Software.\n",
        "\n",
        "THE SOFTWARE IS PROVIDED \"AS IS\", WITHOUT WARRANTY OF ANY KIND, EXPRESS OR\n",
        "IMPLIED, INCLUDING BUT NOT LIMITED TO THE WARRANTIES OF MERCHANTABILITY,\n",
        "FITNESS FOR A PARTICULAR PURPOSE AND NONINFRINGEMENT. IN NO EVENT SHALL THE\n",
        "AUTHORS OR COPYRIGHT HOLDERS BE LIABLE FOR ANY CLAIM, DAMAGES OR OTHER\n",
        "LIABILITY, WHETHER IN AN ACTION OF CONTRACT, TORT OR OTHERWISE, ARISING FROM,\n",
        "OUT OF OR IN CONNECTION WITH THE SOFTWARE OR THE USE OR OTHER DEALINGS IN THE\n",
        "SOFTWARE."
      ]
    }
  ]
}